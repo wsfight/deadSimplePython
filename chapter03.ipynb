{
 "cells": [
  {
   "cell_type": "code",
   "execution_count": null,
   "id": "8ca2f011",
   "metadata": {},
   "outputs": [],
   "source": [
    "def make_tea():\n",
    "    \"\"\"will produce a concoction almost\n",
    "       but not entirely unlike tea.\n",
    "    \"\"\"\n",
    "    return None"
   ]
  },
  {
   "cell_type": "code",
   "execution_count": null,
   "id": "88c45d94",
   "metadata": {},
   "outputs": [],
   "source": [
    "print(make_tea.__doc__)         # 文档字符串\n",
    "help(make_tea)                  # 也会描述出文档字符串"
   ]
  },
  {
   "cell_type": "code",
   "execution_count": 8,
   "id": "87a59519",
   "metadata": {},
   "outputs": [],
   "source": [
    "a = float(\"inf\")                # 无限大"
   ]
  },
  {
   "cell_type": "code",
   "execution_count": null,
   "id": "b3435eb2",
   "metadata": {},
   "outputs": [
    {
     "name": "stdout",
     "output_type": "stream",
     "text": [
      "0.333\n",
      "1/3\n",
      "0.3333333333333333\n",
      "0.333\n",
      "10\n"
     ]
    }
   ],
   "source": [
    "from decimal import Decimal             # 小数点固定的\n",
    "from fractions import Fraction          # 分数\n",
    "third_fraction = Fraction(1,3)          # 1/3\n",
    "third_fixed = Decimal(\"0.333\")\n",
    "print(third_fixed)                      # 0.333\n",
    "print(third_fraction)                   # 1/3\n",
    "third_float = 1 / 3                     # 0.333333333....\n",
    "print(third_float)\n",
    "third_float = float(third_fixed)        # 0.333         float函数将decimal,fraction对象转换成float对象,区分与文档字符串\n",
    "print(third_float)\n"
   ]
  },
  {
   "cell_type": "code",
   "execution_count": 18,
   "id": "62e3bd88",
   "metadata": {},
   "outputs": [
    {
     "name": "stdout",
     "output_type": "stream",
     "text": [
      "3\n"
     ]
    }
   ],
   "source": [
    "a = 10\n",
    "b = 3\n",
    "c = divmod(a,b)                         # (a // b,a % b)    返回一个元组\n",
    "print(c[0])"
   ]
  },
  {
   "cell_type": "code",
   "execution_count": 21,
   "id": "c442b949",
   "metadata": {},
   "outputs": [
    {
     "name": "stdout",
     "output_type": "stream",
     "text": [
      "2.718281828459045\n",
      "6.283185307179586\n",
      "inf\n",
      "-inf\n",
      "nan\n"
     ]
    }
   ],
   "source": [
    "import math\n",
    "print(math.e)\n",
    "print(math.tau)\n",
    "print(math.inf)\n",
    "print(-math.inf)\n",
    "print(math.nan)"
   ]
  },
  {
   "cell_type": "code",
   "execution_count": 45,
   "id": "7b85d1e0",
   "metadata": {},
   "outputs": [
    {
     "name": "stdout",
     "output_type": "stream",
     "text": [
      "shout,\"Cuidado,llamas!\"\n",
      "shout,'Cuidado,llamas!'\n",
      "A\tB\n",
      "A\\tB\n",
      "This cheese shop has 1 types of cheese!\n",
      "This cheese shop has {cheese_num} types of cheese!\n",
      "10\n",
      "97\n",
      "=====+3.14=====\n"
     ]
    }
   ],
   "source": [
    "quote = 'shout,\"Cuidado,llamas!\"'           # shout,\"cuidado,llamas\"\n",
    "print(quote)\n",
    "quote2 = \"shout,'Cuidado,llamas!'\"          # shout,'Cuidado,llamas!'\n",
    "print(quote2)\n",
    "print(\"A\\tB\")                               # A         B\n",
    "print(r\"A\\tB\")                              # A\\tB\n",
    "cheese_num = 1\n",
    "print(f\"This cheese shop has {cheese_num} types of cheese!\")\n",
    "print(f\"\"\"This cheese shop has {{cheese_num}} types of cheese!\"\"\")              # \"\"\"\"\"\" 三重双引号 可以无视\\规则\n",
    "print(f\"{ord('\\n')}\")                                                           # ord()获得对应ascii码\n",
    "print(f\"{ord('a')}\")\n",
    "print(f\"{3.1415:=^+15.2f}\")"
   ]
  },
  {
   "cell_type": "code",
   "execution_count": 48,
   "id": "eabca4c6",
   "metadata": {},
   "outputs": [
    {
     "name": "stdout",
     "output_type": "stream",
     "text": [
      "A moneys is good!\n",
      "Hello,jack!\n"
     ]
    }
   ],
   "source": [
    "from string import Template\n",
    "s = Template(\"A ${thing}s is ${adj}!\")\n",
    "print(s.substitute(thing=\"money\",adj=\"good\"))\n",
    "greeting = \"Hello\"\n",
    "name = \"jack\"\n",
    "s = \"\".join((greeting,\",\",name,\"!\"))                # 字符串拼接中的性能 f\"\" > join > +\n",
    "print(s)"
   ]
  }
 ],
 "metadata": {
  "kernelspec": {
   "display_name": ".venv",
   "language": "python",
   "name": "python3"
  },
  "language_info": {
   "codemirror_mode": {
    "name": "ipython",
    "version": 3
   },
   "file_extension": ".py",
   "mimetype": "text/x-python",
   "name": "python",
   "nbconvert_exporter": "python",
   "pygments_lexer": "ipython3",
   "version": "3.13.7"
  }
 },
 "nbformat": 4,
 "nbformat_minor": 5
}
