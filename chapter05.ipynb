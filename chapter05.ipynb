{
 "cells": [
  {
   "cell_type": "code",
   "execution_count": null,
   "id": "dd115497",
   "metadata": {},
   "outputs": [],
   "source": [
    "curr_score = 0\n",
    "def score():\n",
    "    global curr_score\n",
    "    new_score = 100\n",
    "    curr_score = new_score      # 在函数域内创建了一个新变量\n",
    "score()\n",
    "print(curr_score)       # 0"
   ]
  },
  {
   "cell_type": "code",
   "execution_count": null,
   "id": "fd633e6a",
   "metadata": {},
   "outputs": [],
   "source": [
    "\"\"\"\n",
    "    作用域:如果一个函数访问全局变量不做任何事就可以的,如果参与事情,比如赋值就会创建一个新的变量.这个局部变量的名称会覆盖全局变量名称\n",
    "    内部函数使用外部函数中的也是如此.这叫做嵌套作用域\n",
    "    作用域的解析:局部作用域->外部函数的局部作用域->全局作用域->内置作用域    python按这个顺序查找变量,nonlocal和global调整这个作用域的解析范围\n",
    "\"\"\"\n",
    "spam = True     # 全局1\n",
    "def order():\n",
    "    eggs = 100  # 局部1\n",
    "    def cook():\n",
    "        nonlocal eggs           # nonlocal 其实改变了寻找变量的范围\n",
    "        if spam:\n",
    "            print(\"Spam!\",end=\"\")\n",
    "        if eggs:    # 自己创建了\n",
    "            eggs -= 1\n",
    "            print(\"...and eggs.\")\n",
    "    cook()\n",
    "order()"
   ]
  },
  {
   "cell_type": "code",
   "execution_count": null,
   "id": "acc4cedf",
   "metadata": {},
   "outputs": [],
   "source": [
    "\"\"\"\n",
    "    python中不可变值的真相:在于时候能在原地修改\n",
    "    不可变值: 数值,字符串,元组\n",
    "\"\"\"\n",
    "eggs = 12\n",
    "cartoon = eggs\n",
    "print(cartoon is eggs)      # True  指向的地址一样\n",
    "cartoon = 12 + 1\n",
    "print(cartoon is eggs)      # False  重新申请了一块空间\n",
    "print(eggs)                 # 12\n",
    "print(cartoon)              # 13\n",
    "\n",
    "# 体验可变类型\n",
    "low = [1,2,3]\n",
    "high = low\n",
    "print(high is low)          # True\n",
    "high.append(4)\n",
    "print(high is low)          # True\n",
    "print(high)\n",
    "print(low)"
   ]
  },
  {
   "cell_type": "code",
   "execution_count": null,
   "id": "633895e1",
   "metadata": {},
   "outputs": [],
   "source": [
    "def find_lowest(temperatures):\n",
    "    temperatures.sort()\n",
    "    return temperatures[0]\n",
    "temp = [21,31,11]\n",
    "a = find_lowest(temp)       # 11\n",
    "print(temp)                 # 对原来的列表进行了改变  并不是值传递,更像c++中的引用传递\n",
    "print(a)\n",
    "def find_lowest1(temp):\n",
    "    temp1 = sorted(temp)    # 不会对原来的列表进行改变\n",
    "    return temp1[0]\n",
    "temp1 = [21,31,11]\n",
    "find_lowest1(temp)\n",
    "print(temp1)                # [21,31,11]\n"
   ]
  },
  {
   "cell_type": "code",
   "execution_count": 1,
   "id": "2be2531c",
   "metadata": {},
   "outputs": [
    {
     "name": "stdout",
     "output_type": "stream",
     "text": [
      "('X', '-', '-')\n",
      "('X', '-', '-')\n",
      "('X', '-', '-')\n",
      "([1, 2, 3], [4, 5, 6], [7, 8, 9])\n",
      "([100000, 2, 3], [4, 5, 6], [7, 8, 9])\n"
     ]
    }
   ],
   "source": [
    "# 集合中元素都是引用,放的是具体值的地址,集合中的元素与变量的名称没有任何区别\n",
    "board = [['-'] * 3] * 3             # 3 * 3 这里其实相当于一个board列表中放了3个一样的地址(存储着[-,-,-])\n",
    "board[1][0] = \"X\"                   # ---,x--,---   预期是这样的\n",
    "                                    # 实际是这样的  x--,x--,x--\n",
    "for row in board:\n",
    "    print(f\"{row[0],row[1],row[2]}\")\n",
    "\n",
    "# 元组是不可修改的(原地修改),但是其中存储的可变元素是可以修改的,因为元组中持有的是元素的引用\n",
    "team1 = [1,2,3]\n",
    "team2 = [4,5,6]\n",
    "team3 = [7,8,9]\n",
    "score = (team1,team2,team3)\n",
    "print(score)\n",
    "team1[0] = 100000\n",
    "print(score)\n"
   ]
  },
  {
   "cell_type": "code",
   "execution_count": 3,
   "id": "31480cba",
   "metadata": {},
   "outputs": [
    {
     "name": "stdout",
     "output_type": "stream",
     "text": [
      "['1', '2', '3']\n",
      "['1', '2', '4']\n",
      "['1', '2']\n"
     ]
    }
   ],
   "source": [
    "import copy\n",
    "class taco:\n",
    "    def __init__(self,topping):\n",
    "        self.ingredients = copy.copy(topping)       # 浅拷贝,赋值了一份过去\n",
    "    def add_sauce(self,sauce):\n",
    "        self.ingredients.append(sauce)\n",
    "        \n",
    "\n",
    "default_topping = [\"1\",\"2\"]\n",
    "mild_taco = taco(default_topping)\n",
    "hot_taco = taco(default_topping)\n",
    "mild_taco.add_sauce(\"3\")                # 刚开始用mild_taco接受了返回值,是错误的\n",
    "hot_taco.add_sauce(\"4\")\n",
    "print(mild_taco.ingredients)\n",
    "print(hot_taco.ingredients)\n",
    "print(default_topping)"
   ]
  },
  {
   "cell_type": "code",
   "execution_count": null,
   "id": "450b2a0a",
   "metadata": {},
   "outputs": [
    {
     "name": "stdout",
     "output_type": "stream",
     "text": [
      "18\n",
      "2004\n",
      "[]\n"
     ]
    }
   ],
   "source": [
    "def calculate_age(birth_year,current_year):\n",
    "    return (current_year - birth_year)\n",
    "\n",
    "def calculate_third_age_yead(current_age,current_year):\n",
    "    return (int)(current_year - (current_age / 3))\n",
    "\n",
    "birth_year = \"1992\"\n",
    "birth_year = (int)(birth_year)\n",
    "current_year = (int)(\"2010\")\n",
    "curr_age = calculate_age(birth_year,current_year)\n",
    "curr_third_age = calculate_third_age_yead(curr_age,current_year)\n",
    "print(curr_age)\n",
    "print(curr_third_age)\n"
   ]
  },
  {
   "cell_type": "code",
   "execution_count": null,
   "id": "af81a46f",
   "metadata": {},
   "outputs": [],
   "source": [
    "# !!!名称具有作⽤域，但没有类型；值具有类型，但没有作⽤域；名称可以绑 定到任何值，值可以绑定到任何名称\n",
    "# 还没有具体了解鸭子类型"
   ]
  }
 ],
 "metadata": {
  "kernelspec": {
   "display_name": ".venv",
   "language": "python",
   "name": "python3"
  },
  "language_info": {
   "codemirror_mode": {
    "name": "ipython",
    "version": 3
   },
   "file_extension": ".py",
   "mimetype": "text/x-python",
   "name": "python",
   "nbconvert_exporter": "python",
   "pygments_lexer": "ipython3",
   "version": "3.13.7"
  }
 },
 "nbformat": 4,
 "nbformat_minor": 5
}
