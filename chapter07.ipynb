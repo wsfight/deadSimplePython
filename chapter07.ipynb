{
 "cells": [
  {
   "cell_type": "code",
   "execution_count": null,
   "id": "4c708688",
   "metadata": {},
   "outputs": [],
   "source": [
    "class SecretAgent:\n",
    "    # 类属性,应该在类的顶部\n",
    "    # 在类属性前加_线,这意味着他不应该在类外被修改..这只是一种预定,并没有强制\n",
    "    _codeword = \"\"\n",
    "\n",
    "    def __init__(self, codename=\"\"):\n",
    "        # 初始化器,不同于构造函数\n",
    "        # # 所有实例属性都应该是初始化器中\n",
    "\n",
    "        self.codename = codename\n",
    "        self._secret = []\n",
    "        self.__format = \"UTF-8\"  # 为了防止被继承类修改\n",
    "\n",
    "    # 实例方法\n",
    "    def remember(self, secret):\n",
    "        self._secret.append(secret)\n",
    "\n",
    "    # 类方法\n",
    "    @classmethod\n",
    "    def setCodeword(cls, codeword):\n",
    "        # 不用担心是实例还是类来调用类方法\n",
    "        cls._codeword = codeword\n",
    "\n",
    "    @classmethod\n",
    "    def getCodeword(cls):\n",
    "        return cls._codeword\n",
    "\n",
    "    @classmethod\n",
    "    def _encrypt(cls, msg, *, decrypt=False):\n",
    "        code = sum(ord(c) for c in cls._codeword)\n",
    "        if decrypt:\n",
    "            code -= code\n",
    "        return \"\".join(chr(ord(m) + code) for m in msg)\n",
    "\n",
    "    @staticmethod\n",
    "    def inquire(question=\"\"):\n",
    "        # 静态方法不会访问任何类属性和方法\n",
    "        print(\"I dont know!\")\n",
    "\n",
    "    def _getsecret(self):\n",
    "        return self._secret[-1] if self._secret else None\n",
    "\n",
    "    def _setsecret(self, value):\n",
    "        self._secret.append(self._encrypt(value))\n",
    "\n",
    "    def _delsecret(self):\n",
    "        self._secret = self._secret[:-1]  # 列表置空了\n",
    "\n",
    "    # property是一种把方法当做属性的一种机制\n",
    "    secret = property(fget=_getsecret, fset=_setsecret, fdel=_delsecret)"
   ]
  },
  {
   "cell_type": "code",
   "execution_count": 50,
   "id": "9b303644",
   "metadata": {},
   "outputs": [
    {
     "name": "stdout",
     "output_type": "stream",
     "text": [
      "parmesean\n",
      "parmesean\n",
      "mouse\n",
      "parmesean\n",
      "parmesean\n",
      "The ducks quacks at midnight!\n",
      "The ducks quacks at midnight!\n",
      "I dont know!\n",
      "42,-72\n",
      "ાિીુૂ૚૮૶ૻ଀ଁ૿૲૲ଁ\n",
      "['42,-72', 'ાિીુૂ\\u0ada૮\\u0af6ૻ\\u0b00ଁ૿\\u0af2\\u0af2ଁ']\n",
      "['42,-72']\n"
     ]
    }
   ],
   "source": [
    "SecretAgent._codeword = \"parmesean\"  # 如果在类属性中重新绑定或更改类属性,则所有都应用\n",
    "mouse = SecretAgent(\"mouse\")\n",
    "weseal = SecretAgent(\"weseal\")\n",
    "print(mouse._codeword)\n",
    "print(weseal._codeword)\n",
    "mouse._codeword = \"mouse\"  # 可以通过实例访问类属性,这样会生成一个实例属性覆盖当前实例的类属性,其余的类属性不变\n",
    "print(mouse._codeword)\n",
    "print(weseal._codeword)\n",
    "mouse.remember((\"42,-72\"))\n",
    "print(mouse.getCodeword())\n",
    "fox = SecretAgent(\"fox\")\n",
    "fox.setCodeword(\"The ducks quacks at midnight!\")\n",
    "print(mouse.getCodeword())  # The ducks quacks at midnight!\n",
    "print(fox.getCodeword())  # The ducks quacks at midnight!\n",
    "fox.inquire()\n",
    "\n",
    "\n",
    "print(mouse.secret)\n",
    "mouse.secret = \"12345Mainstreet\"\n",
    "print(mouse.secret)\n",
    "print(mouse._secret)\n",
    "del mouse.secret\n",
    "print(mouse._secret)"
   ]
  }
 ],
 "metadata": {
  "kernelspec": {
   "display_name": ".venv",
   "language": "python",
   "name": "python3"
  },
  "language_info": {
   "codemirror_mode": {
    "name": "ipython",
    "version": 3
   },
   "file_extension": ".py",
   "mimetype": "text/x-python",
   "name": "python",
   "nbconvert_exporter": "python",
   "pygments_lexer": "ipython3",
   "version": "3.13.7"
  }
 },
 "nbformat": 4,
 "nbformat_minor": 5
}
