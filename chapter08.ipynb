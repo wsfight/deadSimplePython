{
 "cells": [
  {
   "cell_type": "code",
   "execution_count": null,
   "id": "ba7e0ae6",
   "metadata": {},
   "outputs": [
    {
     "name": "stdout",
     "output_type": "stream",
     "text": [
      "I am think of a number between 1 and 100!\n",
      "Too low!\n",
      "8 tries left!!\n",
      "Too high!\n",
      "7 tries left!!\n",
      "Too high!\n",
      "6 tries left!!\n",
      "Too low!\n",
      "5 tries left!!\n",
      "Too low!\n",
      "4 tries left!!\n",
      "Too high!\n",
      "3 tries left!!\n",
      "you win!\n"
     ]
    }
   ],
   "source": [
    "import random\n",
    "\n",
    "\n",
    "def generate_game(low=1, high=100):\n",
    "    \"\"\"生一个随机数字\n",
    "\n",
    "    Args:\n",
    "        low (int, optional): _description_. Defaults to 1.\n",
    "        high (int, optional): _description_. Defaults to 100.\n",
    "\n",
    "    Returns:\n",
    "        返回一个随机数字\n",
    "    \"\"\"\n",
    "    print(f\"I am think of a number between {low} and {high}!\")\n",
    "    return random.randint(low, high)\n",
    "\n",
    "\n",
    "def make_guess(target):\n",
    "    guess = int(input(\"Guess:\"))\n",
    "    if guess == target:\n",
    "        return True\n",
    "    elif guess < target:\n",
    "        print(\"Too low!\")\n",
    "    else:\n",
    "        print(\"Too high!\")\n",
    "    return False\n",
    "\n",
    "\n",
    "def play(tries=9):\n",
    "    # 首先生成一个随机字符\n",
    "    target = generate_game()\n",
    "    while tries > 0:\n",
    "        # 有尝试次数才开始\n",
    "        if make_guess(target):\n",
    "            print(\"you win!\")\n",
    "            return\n",
    "        else:\n",
    "            tries -= 1\n",
    "            print(f\"{tries} tries left!!\")\n",
    "    print(f\"Game over!\")\n",
    "\n",
    "\n",
    "# 把每个动作都抽象出一个单纯的函数\n",
    "\n",
    "play()"
   ]
  }
 ],
 "metadata": {
  "kernelspec": {
   "display_name": ".venv",
   "language": "python",
   "name": "python3"
  },
  "language_info": {
   "codemirror_mode": {
    "name": "ipython",
    "version": 3
   },
   "file_extension": ".py",
   "mimetype": "text/x-python",
   "name": "python",
   "nbconvert_exporter": "python",
   "pygments_lexer": "ipython3",
   "version": "3.13.7"
  }
 },
 "nbformat": 4,
 "nbformat_minor": 5
}
