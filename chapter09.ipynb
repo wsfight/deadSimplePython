{
 "cells": [
  {
   "cell_type": "code",
   "execution_count": null,
   "id": "6722cb69",
   "metadata": {},
   "outputs": [],
   "source": [
    "number = None\n",
    "while number is None:\n",
    "    try:\n",
    "        raw = input(\"Enter a number('q' to quit)!\")\n",
    "        if raw == \"q\":\n",
    "            break\n",
    "        number = int(raw)\n",
    "    except ValueError:\n",
    "        print(f\"Please enter a number!\")\n",
    "else:  # else语句只是循环正常结束后运行\n",
    "    print(f\"your number is {number}\")  # 如果不输出则输出None"
   ]
  },
  {
   "cell_type": "code",
   "execution_count": null,
   "id": "6ffd7572",
   "metadata": {},
   "outputs": [],
   "source": [
    "numbers = [\"one\", \"two\", \"three\"]\n",
    "for num in numbers:\n",
    "    print(num)\n",
    "else:  # 只有在正常循环结束后才运行\n",
    "    print(\"We are done!\")"
   ]
  },
  {
   "cell_type": "code",
   "execution_count": null,
   "id": "2f1374c5",
   "metadata": {},
   "outputs": [],
   "source": [
    "from collections import deque\n",
    "\n",
    "# 双端队列\n",
    "customers = deque([\"A\", \"B\"])\n",
    "customers.append(\"C\")\n",
    "customers.appendleft(\"a\")\n",
    "print(customers)\n",
    "customers.pop()\n",
    "print(customers)\n",
    "customers.popleft()\n",
    "print(customers)"
   ]
  },
  {
   "cell_type": "code",
   "execution_count": 27,
   "id": "d40023df",
   "metadata": {},
   "outputs": [
    {
     "name": "stdout",
     "output_type": "stream",
     "text": [
      "{'a', 'c', 'b'}\n",
      "{'a', 'd', 'c', 'b'}\n",
      "{'a', 'c', 'z', 'b'}\n",
      "{'c', 'z', 'b'}\n",
      "{'z', 'b'}\n"
     ]
    }
   ],
   "source": [
    "# set集合 是一种 无序,唯一,可变\n",
    "raffle = set([\"a\", \"b\", \"c\"])\n",
    "print(raffle)\n",
    "raffle2 = {\"a\", \"b\", \"c\", \"d\"}\n",
    "print(raffle2)\n",
    "raffle.add(\"a\")  # 无法添加,注意集合是无序的\n",
    "raffle.add(\"z\")\n",
    "print(raffle)\n",
    "raffle.discard(\"a\")  # 删除元素\n",
    "print(raffle)\n",
    "raffle.pop()  # 删除任一项\n",
    "print(raffle)"
   ]
  }
 ],
 "metadata": {
  "kernelspec": {
   "display_name": ".venv",
   "language": "python",
   "name": "python3"
  },
  "language_info": {
   "codemirror_mode": {
    "name": "ipython",
    "version": 3
   },
   "file_extension": ".py",
   "mimetype": "text/x-python",
   "name": "python",
   "nbconvert_exporter": "python",
   "pygments_lexer": "ipython3",
   "version": "3.13.7"
  }
 },
 "nbformat": 4,
 "nbformat_minor": 5
}
